{
 "cells": [
  {
   "cell_type": "code",
   "execution_count": 2,
   "metadata": {},
   "outputs": [],
   "source": [
    "%reload_ext autoreload\n",
    "%autoreload 2\n",
    "%matplotlib inline"
   ]
  },
  {
   "cell_type": "code",
   "execution_count": 327,
   "metadata": {},
   "outputs": [],
   "source": [
    "# Imports\n",
    "import numpy as np\n",
    "import pandas as pd\n",
    "from tqdm import tqdm \n",
    "from sklearn.model_selection import train_test_split"
   ]
  },
  {
   "cell_type": "code",
   "execution_count": null,
   "metadata": {},
   "outputs": [],
   "source": []
  },
  {
   "cell_type": "code",
   "execution_count": 4,
   "metadata": {},
   "outputs": [],
   "source": [
    "img_feat_path = \"../data/features_densenet.npy\"\n",
    "text_feat_path = \"../data/features_bert_1000.npy\""
   ]
  },
  {
   "cell_type": "code",
   "execution_count": 5,
   "metadata": {},
   "outputs": [],
   "source": [
    "\n",
    "img_features = np.load(img_feat_path)"
   ]
  },
  {
   "cell_type": "code",
   "execution_count": 6,
   "metadata": {},
   "outputs": [],
   "source": [
    "\n",
    "text_features = np.load(text_feat_path)\n"
   ]
  },
  {
   "cell_type": "code",
   "execution_count": 7,
   "metadata": {},
   "outputs": [
    {
     "data": {
      "text/plain": [
       "array([ 5.29073298e-01, -1.71541721e-01,  3.08802336e-01,  7.86855537e-03,\n",
       "        3.14220130e-01, -2.25084871e-01, -4.98234421e-01,  2.22875521e-01,\n",
       "       -7.08729446e-01, -3.04852515e-01,  3.68502110e-01, -6.68642461e-01,\n",
       "       -2.49022081e-01,  6.13008976e-01,  1.49190743e-02,  5.75145006e-01,\n",
       "       -7.28979111e-02,  2.54051745e-01,  1.46331578e-01,  1.17061064e-01,\n",
       "        2.69857317e-01, -2.34132439e-01, -5.62548995e-01, -1.31890620e-03,\n",
       "       -1.61656335e-01, -2.22178608e-01,  1.16699003e-01, -6.48799613e-02,\n",
       "        1.89696312e-01, -5.23374453e-02,  1.48475945e-01, -1.26938090e-01,\n",
       "       -7.96284601e-02, -3.05142701e-01, -3.52363884e-01, -5.94661772e-01,\n",
       "       -1.37687698e-01, -1.38169765e-01, -2.83382952e-01,  6.88940380e-03,\n",
       "       -7.41415024e-01,  1.05075583e-01,  2.42597133e-01,  1.09096572e-01,\n",
       "       -5.24445832e-01,  4.32214960e-02, -5.83388880e-02,  8.40286240e-02,\n",
       "       -9.80826989e-02,  3.30672935e-02, -3.73284042e-01,  1.47073761e-01,\n",
       "       -3.63114566e-01,  4.07938421e-01,  1.39508530e-01,  2.48356938e-01,\n",
       "       -6.49559870e-02, -4.08787072e-01, -1.21499434e-01, -1.44879177e-01,\n",
       "        7.87097067e-02, -1.74943417e-01, -5.47944494e-02, -3.59051153e-02,\n",
       "        5.40640727e-02, -1.24512210e-01,  3.29852104e-01,  2.68050462e-01,\n",
       "       -1.57514475e-02,  7.19917640e-02, -2.25461703e-02, -3.00512642e-01,\n",
       "        1.49343815e-02,  5.98515198e-02, -4.75822866e-01,  4.39768136e-01,\n",
       "        1.61150724e-01,  5.20411849e-01, -1.02578476e-01, -5.06854653e-01,\n",
       "       -1.76968843e-01,  6.41095757e-01, -4.14361537e-01,  1.45483106e-01,\n",
       "       -1.45705547e-02,  3.31087708e-01, -5.23355365e-01,  1.94125324e-01,\n",
       "       -1.55798763e-01,  2.24530220e-01, -1.55783430e-01,  1.53550774e-01,\n",
       "       -1.14071347e-01,  3.68211448e-01,  7.71710634e-01, -6.21224761e-01,\n",
       "       -5.39256692e-01,  1.27070218e-01, -3.60410154e-01,  1.90820187e-01,\n",
       "        4.70877558e-01, -5.20616233e-01,  1.96449421e-02, -5.03816009e-02,\n",
       "        1.48046523e-01,  9.23343748e-02,  1.16817854e-01,  2.15097949e-01,\n",
       "       -7.27258176e-02, -3.39185804e-01, -1.43212512e-01, -1.35912955e-01,\n",
       "       -3.28241378e-01, -4.19114351e-01, -3.56309980e-01,  2.10845880e-02,\n",
       "        3.48397195e-01, -2.38552243e-01,  1.54546453e-02,  1.86792657e-01,\n",
       "       -3.35785061e-01, -3.28138173e-02,  1.34317011e-01,  1.40486553e-01,\n",
       "       -3.22471969e-02,  5.73608160e-01,  2.37420171e-01,  8.68774205e-02,\n",
       "        1.94986299e-01, -3.16526115e-01,  2.16739982e-01,  4.42533433e-01,\n",
       "        7.05959499e-01, -5.38157821e-01,  2.76982844e-01,  4.68447506e-01,\n",
       "        1.13740399e-01, -4.79001373e-01, -8.38256955e-01, -3.84427696e-01,\n",
       "        3.54461342e-01,  8.21406096e-02,  1.60464302e-01, -1.12734161e-01,\n",
       "       -3.51230390e-02, -1.79532394e-01, -1.46123871e-01, -2.07738020e-02,\n",
       "        2.40520120e-01,  1.43532930e-02, -1.48271129e-01,  4.00939658e-02,\n",
       "        4.05634306e-02, -2.91429102e-01, -1.17313102e-01,  3.03834025e-02,\n",
       "       -6.30743623e-01, -5.78258991e-01,  3.22848558e-01, -4.38059159e-02,\n",
       "        5.88508308e-01, -4.30539474e-02, -2.22604319e-01,  5.97068429e-01,\n",
       "       -2.91841831e-02, -5.17501757e-02,  4.23363037e-02,  5.92456698e-01,\n",
       "       -2.57566184e-01, -8.93190950e-02, -4.55582291e-02,  2.23292157e-01,\n",
       "        3.34152639e-01,  2.62419343e-01, -4.93825320e-03,  3.16351354e-01,\n",
       "        8.96797627e-02,  2.79369891e-01,  6.64165080e-01,  2.57955104e-01,\n",
       "       -5.07611752e-01, -2.02889800e-01, -1.39410764e-01, -9.39775258e-02,\n",
       "        3.47565114e-01,  1.26263261e-01,  4.77276415e-01, -6.89302981e-02,\n",
       "       -7.27050900e-01,  5.26841998e-01, -4.49608982e-01, -7.91201591e-02,\n",
       "        2.99616270e-02, -3.78172487e-01,  4.14793730e-01, -6.94639444e-01,\n",
       "       -1.78490967e-01, -5.23261130e-02,  1.36813134e-01,  4.92689699e-01,\n",
       "        1.51093556e-02,  8.80426988e-02, -4.20102745e-01, -3.15331519e-01,\n",
       "       -2.57293791e-01,  6.29837871e-01,  3.26087922e-01,  1.78033113e-01,\n",
       "       -2.63011217e-01, -1.94166273e-01, -9.43178535e-02,  3.54745030e-01,\n",
       "        2.06679367e-02,  1.69907033e-01, -4.39578831e-01,  2.89460361e-01,\n",
       "        6.95924163e-01, -8.29052776e-02, -3.08201849e-01,  4.12053496e-01,\n",
       "        3.12081575e-01,  1.79472268e-01, -1.61075592e-01,  2.55403399e-01,\n",
       "       -6.54025912e-01,  3.81799400e-01,  2.45559573e-01, -2.58919418e-01,\n",
       "        4.21234697e-01, -6.81893528e-01,  4.87619452e-02,  5.83298616e-02,\n",
       "        2.68529147e-01, -1.57040238e-01,  2.40027402e-02, -3.37114930e-01,\n",
       "        3.13952774e-01, -7.25288242e-02,  1.59529969e-01,  2.06762413e-03,\n",
       "       -2.90718853e-01,  1.42948821e-01,  4.35284287e-01,  5.72841465e-01,\n",
       "        4.75811154e-01,  2.43010312e-01, -4.76675570e-01, -1.22471616e-01,\n",
       "        2.67775983e-01, -2.54445612e-01, -5.15348077e-01, -1.32414609e-01,\n",
       "       -6.18591487e-01, -6.13522753e-02, -6.02634549e-02,  7.94550329e-02,\n",
       "        1.31980509e-01,  1.15093447e-01, -1.20797396e-01, -8.97657648e-02,\n",
       "       -3.44800279e-02, -3.49907398e-01,  2.41609648e-01,  2.34519288e-01,\n",
       "       -6.12434745e-01, -8.19441825e-02, -5.56189194e-02, -1.69604078e-01,\n",
       "        4.36780632e-01,  3.84230912e-01, -1.85172573e-01,  6.29942119e-02,\n",
       "        1.08128548e-01,  8.88813972e-01,  2.40034178e-01, -3.28639686e-01,\n",
       "        4.08583492e-01, -7.49122351e-02,  3.68073791e-01, -2.71250550e-02,\n",
       "        2.59800881e-01,  6.43272176e-02, -4.40721124e-01, -1.32513866e-01,\n",
       "        3.71327221e-01, -5.93157411e-01,  3.26889813e-01,  2.08125740e-01,\n",
       "       -1.11161754e-01, -1.40970975e-01, -3.52844335e-02,  1.96475178e-01,\n",
       "        2.14247517e-02, -8.05195451e-01,  8.36522758e-01, -3.83167386e-01,\n",
       "        3.80514329e-03, -3.11864018e-01, -6.82058573e-01, -4.45296586e-01,\n",
       "       -8.32342952e-02, -3.28128248e-01,  2.88606733e-01, -2.76371270e-01,\n",
       "       -7.75115788e-01,  2.63185114e-01, -4.74325269e-01, -3.28103989e-01,\n",
       "       -9.68173695e+00, -1.40763164e-01,  1.68151140e-01, -1.76629558e-01,\n",
       "       -5.43699980e-01, -3.76715474e-02, -1.02317795e-01, -2.91786641e-01,\n",
       "       -3.15953672e-01, -2.94283569e-01, -1.09239981e-01,  6.78053424e-02,\n",
       "        2.30028078e-01,  2.11154535e-01, -4.84979391e-01, -1.87954694e-01,\n",
       "        5.29469371e-01, -1.33169191e-02,  8.95490795e-02,  8.87129664e-01,\n",
       "       -3.13779861e-01,  1.33190021e-01,  8.55423287e-02, -1.42581046e-01,\n",
       "       -4.11329418e-01,  3.18365991e-01,  7.73697421e-02, -1.99076682e-01,\n",
       "       -2.13434890e-01,  3.55444789e-01, -1.77742839e-01, -3.96497786e-01,\n",
       "       -2.81874925e-01,  1.15225887e+00, -4.16627944e-01, -2.70332992e-01,\n",
       "       -1.29528329e-01, -9.55339819e-02,  2.68733829e-01,  1.36649370e-01,\n",
       "        9.81433615e-02, -6.83175206e-01,  1.75152034e-01,  3.52870405e-01,\n",
       "        4.94717300e-01, -8.95444274e-01,  4.89465058e-01, -2.97295272e-01,\n",
       "       -3.32932264e-01,  9.06607658e-02, -2.14868620e-01, -3.91935080e-01,\n",
       "        1.71759918e-01, -2.62811959e-01, -5.35564236e-02, -6.39209896e-02,\n",
       "        6.75476134e-01,  5.34444153e-01,  1.83102041e-01, -6.32590652e-01,\n",
       "        4.55826186e-02, -8.06851387e-01, -5.21417320e-01,  2.31501579e-01,\n",
       "       -3.11006576e-01, -1.70700252e-01, -5.14880538e-01, -7.41526425e-01,\n",
       "        1.72149554e-01, -1.27231881e-01, -6.15312755e-02, -1.73694342e-02,\n",
       "        2.54803486e-02, -1.77297175e+00, -1.01041567e+00,  1.27262563e-01,\n",
       "        1.08329490e-01, -2.98738722e-02,  5.82010858e-02, -1.53209955e-01,\n",
       "       -7.34495759e-01, -3.32461178e-01,  1.23743668e-01,  4.54051122e-02,\n",
       "       -3.03095132e-01, -8.95574749e-01, -6.16206415e-02,  1.72384113e-01,\n",
       "        3.82995680e-02,  3.51019710e-01,  5.31757236e-01,  1.15417436e-01,\n",
       "       -9.54013839e-02,  2.67222404e-01, -1.77728325e-01,  2.75262326e-01,\n",
       "        5.04268527e-01, -4.31886107e-01,  4.55895275e-01, -2.38581337e-02,\n",
       "        4.71931130e-01, -8.05208758e-02,  1.97655946e-01,  5.38078189e-01,\n",
       "       -1.82134539e-01, -1.50906622e-01, -6.57006204e-01,  2.99647748e-01,\n",
       "        3.47095072e-01, -7.87521154e-02, -2.66743660e-01,  1.87278122e-01,\n",
       "       -2.53254622e-01,  4.75267097e-02, -4.15825456e-01, -3.84387076e-01,\n",
       "        5.32123625e-01,  1.18084706e-01,  3.66006911e-01, -4.06471968e-01,\n",
       "        1.56206694e-02,  3.56237978e-01, -5.89683890e-01, -6.79336965e-01,\n",
       "       -4.09674317e-01, -2.80522287e-01, -3.28103125e-01,  1.99582979e-01,\n",
       "       -5.58024764e-01,  2.74418294e-01,  1.09192893e-01, -8.08909908e-02,\n",
       "       -2.60204580e-02,  2.69304693e-01,  4.68774997e-02,  6.19250610e-02,\n",
       "        1.85821280e-02, -3.51513654e-01,  7.87530169e-02, -3.36600021e-02,\n",
       "        4.38919932e-01,  2.75407910e-01, -2.06389949e-01,  3.42088610e-01,\n",
       "       -1.33232865e-02,  5.51400408e-02, -4.29870129e-01,  3.60284358e-01,\n",
       "        2.07749322e-01, -4.56224531e-02, -4.32656944e-01, -5.15850425e-01,\n",
       "       -5.07655680e-01,  7.97411576e-02,  4.76093113e-01,  2.09729761e-01,\n",
       "       -1.54097944e-01, -8.52628112e-01, -1.59386083e-01, -6.00787997e-01,\n",
       "        2.62784451e-01,  3.59814584e-01,  1.35806188e-01,  5.76369643e-01,\n",
       "        3.49519908e-01,  5.98018542e-02, -1.96138650e-01,  3.92009884e-01,\n",
       "        2.28982016e-01,  1.65393978e-01, -3.04646879e-01,  1.67181626e-01,\n",
       "        1.81035608e-01, -4.30978909e-02,  4.07402992e-01,  1.76023528e-01,\n",
       "       -8.30633268e-02,  2.73784161e-01, -9.65514109e-02,  4.67285782e-01,\n",
       "       -8.85285214e-02,  4.07030582e-01, -2.85815239e-01, -4.91775453e-01,\n",
       "        3.28436196e-01,  1.93468168e-01, -5.88323660e-02,  2.65940249e-01,\n",
       "        1.56286582e-02,  3.28415066e-01, -3.36124569e-01,  6.96913838e-01,\n",
       "       -2.96042383e-01, -5.79052329e-01, -2.67330080e-01, -1.08277082e+00,\n",
       "        1.51221063e-02, -1.89984709e-01,  1.23680547e-01,  7.90390790e-01,\n",
       "       -3.33841383e-01, -2.53137231e-01, -1.86514467e-01,  1.68091893e-01,\n",
       "       -3.77529800e-01,  2.78019637e-01, -4.21132952e-01,  3.06749791e-01,\n",
       "       -6.09773807e-02, -1.92692906e-01, -1.29541993e-01, -4.20065187e-02,\n",
       "       -3.65119100e-01, -7.05983281e-01, -2.33239010e-01,  5.33963442e-01,\n",
       "        1.91472664e-01, -6.00562394e-01, -4.67804261e-02,  8.38015825e-02,\n",
       "       -1.30118459e-01,  8.63282830e-02,  3.38500649e-01,  3.01529825e-01,\n",
       "       -1.24538481e-01, -4.39482450e-01, -6.95500895e-03,  8.66784006e-02,\n",
       "       -4.27799553e-01, -6.71675205e-02,  2.11495943e-02, -3.59229833e-01,\n",
       "       -1.75170437e-01,  6.30205423e-02, -5.70743859e-01, -6.03765659e-02,\n",
       "       -6.49268785e-03,  5.63145503e-02,  4.67239797e-01,  1.73137829e-01,\n",
       "       -4.61217538e-02, -7.69903064e-01, -2.25490645e-01, -1.04704760e-01,\n",
       "       -2.06397563e-01,  5.23673277e-03,  5.79880178e-01, -1.58568740e-01,\n",
       "       -7.30272848e-03,  1.18378796e-01, -6.78012073e-02,  2.65935928e-01,\n",
       "        4.14157547e-02, -7.41146207e-01,  3.90179604e-01, -2.00522453e-01,\n",
       "        1.15169659e-01,  4.09527197e-02, -2.43819758e-01,  4.66660440e-01,\n",
       "        2.47949764e-01,  4.28750992e-01,  1.20752871e-01,  1.86682433e-01,\n",
       "       -2.63345931e-02, -4.65197176e-01,  1.70895487e-01,  6.49577737e-01,\n",
       "        1.94457516e-01,  1.35778457e-01, -5.43714881e-01,  3.92881632e-01,\n",
       "        1.68214649e-01,  3.62702280e-01, -6.37919158e-02,  3.89871687e-01,\n",
       "       -4.45123017e-01, -2.45733932e-01, -5.20765670e-02, -3.55825275e-01,\n",
       "       -3.53379399e-01,  2.22197011e-01,  3.14953595e-01,  5.70942573e-02,\n",
       "       -3.71112913e-01,  2.32769758e-01, -1.71049789e-01,  4.17941481e-01,\n",
       "       -1.93124533e-01,  1.27408743e-01, -2.37695068e-01,  1.66895285e-01,\n",
       "       -1.20529339e-01,  1.01496028e-02,  7.81474531e-01,  3.47325176e-01,\n",
       "        4.54887211e-01,  6.86543733e-02,  8.62224847e-02, -1.50676504e-01,\n",
       "       -8.14161956e-01,  1.11450590e-01,  1.37700185e-01,  3.23509991e-01,\n",
       "        6.07706308e-02,  7.47118443e-02, -4.01159763e-01,  6.85502067e-02,\n",
       "        1.86792582e-01, -1.62748862e-02, -2.58500040e-01, -7.96756335e-03,\n",
       "       -9.86328125e-02,  2.08402514e-01, -1.74865406e-02, -4.16283131e-01,\n",
       "        4.51013952e-01, -8.13361347e-01, -4.84220445e-01,  1.04877785e-01,\n",
       "       -1.74513265e-01,  4.32381630e-01,  5.85124850e-01,  4.11753869e-03,\n",
       "       -7.61318088e-01,  4.16116089e-01,  1.16002485e-01, -1.82143122e-01,\n",
       "       -6.83500320e-02, -1.22464143e-01, -1.63789034e-01, -1.13661708e-02,\n",
       "       -4.43513632e-01,  3.68498564e-01, -4.12005812e-01, -2.40202814e-01,\n",
       "        2.03493033e-02,  7.12456647e-03,  3.99716467e-01,  1.07244991e-01,\n",
       "       -5.93360066e-01,  5.17640471e-01,  2.31534079e-01,  2.63883382e-01,\n",
       "       -2.65419215e-01,  9.65591818e-02, -2.12540224e-01, -4.28593576e-01,\n",
       "        1.35420278e-01,  5.02147555e-01,  6.79938942e-02, -7.22242594e-02,\n",
       "        1.90815385e-02, -4.30936396e-01,  3.68311793e-01,  6.45225167e-01,\n",
       "        4.49639797e-01,  4.21511829e-01, -1.79376632e-01,  4.12124217e-01,\n",
       "        2.45834634e-01, -4.71757241e-02,  1.58403203e-01, -4.32239920e-01,\n",
       "       -6.27615750e-02,  2.94716299e-01, -2.75536239e-01,  5.96212804e-01,\n",
       "        3.04432362e-01, -3.91763896e-01,  2.61139214e-01,  3.25648896e-02,\n",
       "        7.93132037e-02,  2.23112985e-01,  1.10025406e-01,  4.92825687e-01,\n",
       "       -1.62430890e-02, -8.87366459e-02, -4.97907490e-01,  7.35496730e-02,\n",
       "        5.14306307e-01, -2.99382985e-01, -3.20162594e-01, -1.80836529e-01,\n",
       "        1.59108311e-01, -1.15202524e-01,  5.60509920e-01,  5.99065959e-01,\n",
       "       -8.61782357e-02, -4.94447887e-01,  7.94959664e-02,  3.23908101e-03,\n",
       "        1.17008686e-01,  7.95334429e-02, -8.29282999e-02, -1.86633006e-01,\n",
       "       -2.97673047e-01, -2.72721469e-01,  5.77483773e-01, -2.05688044e-01,\n",
       "       -3.83722007e-01, -2.40555078e-01,  1.17168285e-01,  1.11952901e-01,\n",
       "       -2.92558849e-01, -1.75064027e-01, -7.02838898e-02,  7.22061038e-01,\n",
       "       -8.64437222e-01, -3.66614640e-01, -3.16923499e-01, -5.32086976e-02,\n",
       "       -3.83119099e-02, -1.34852991e-01, -8.88318494e-02,  1.69440478e-01,\n",
       "        1.16741732e-01, -6.52134567e-02,  2.11575791e-01,  3.64283353e-01,\n",
       "       -2.26171017e-01, -2.88312137e-01, -2.19601542e-01,  3.77261609e-01,\n",
       "       -2.68365711e-01, -4.16358054e-01,  8.57395381e-02,  2.86669254e-01,\n",
       "       -1.78743452e-01, -1.35644693e-02, -1.21147513e-01,  6.34202719e-01,\n",
       "        8.44746009e-02, -2.36253649e-01, -2.43862510e-01, -2.26674080e-01,\n",
       "       -9.18847769e-02, -1.67109631e-02,  2.49592572e-01, -2.77039260e-01,\n",
       "       -4.09008414e-01,  5.69128275e-01,  4.51246738e-01, -1.89253932e-03,\n",
       "        2.02318460e-01,  2.56456643e-01, -5.45658827e-01, -2.51029730e-02,\n",
       "       -6.30119303e-03, -3.72914106e-01, -1.86221123e-01,  2.08944641e-02,\n",
       "        2.00292945e-01, -5.45688272e-01, -3.51924419e-01,  4.91735399e-01,\n",
       "       -3.63592803e-01, -5.84129572e-01, -1.23921193e-01, -1.18770383e-01],\n",
       "      dtype=float32)"
      ]
     },
     "execution_count": 7,
     "metadata": {},
     "output_type": "execute_result"
    }
   ],
   "source": [
    "text_features[0]"
   ]
  },
  {
   "cell_type": "code",
   "execution_count": 9,
   "metadata": {},
   "outputs": [
    {
     "data": {
      "text/plain": [
       "(368900, 768)"
      ]
     },
     "execution_count": 9,
     "metadata": {},
     "output_type": "execute_result"
    }
   ],
   "source": [
    "text_features.shape"
   ]
  },
  {
   "cell_type": "code",
   "execution_count": 10,
   "metadata": {},
   "outputs": [
    {
     "data": {
      "text/plain": [
       "(82783, 7, 7, 1024)"
      ]
     },
     "execution_count": 10,
     "metadata": {},
     "output_type": "execute_result"
    }
   ],
   "source": [
    "img_features.shape"
   ]
  },
  {
   "cell_type": "code",
   "execution_count": 11,
   "metadata": {},
   "outputs": [],
   "source": [
    "img_features = img_features.reshape(82783,7*7*1024)"
   ]
  },
  {
   "cell_type": "code",
   "execution_count": 12,
   "metadata": {},
   "outputs": [
    {
     "data": {
      "text/plain": [
       "(82783, 50176)"
      ]
     },
     "execution_count": 12,
     "metadata": {},
     "output_type": "execute_result"
    }
   ],
   "source": [
    "img_features.shape"
   ]
  },
  {
   "cell_type": "code",
   "execution_count": 13,
   "metadata": {},
   "outputs": [
    {
     "data": {
      "text/html": [
       "<div>\n",
       "<style scoped>\n",
       "    .dataframe tbody tr th:only-of-type {\n",
       "        vertical-align: middle;\n",
       "    }\n",
       "\n",
       "    .dataframe tbody tr th {\n",
       "        vertical-align: top;\n",
       "    }\n",
       "\n",
       "    .dataframe thead th {\n",
       "        text-align: right;\n",
       "    }\n",
       "</style>\n",
       "<table border=\"1\" class=\"dataframe\">\n",
       "  <thead>\n",
       "    <tr style=\"text-align: right;\">\n",
       "      <th></th>\n",
       "      <th>image_id</th>\n",
       "      <th>ques_id</th>\n",
       "      <th>question</th>\n",
       "      <th>answer</th>\n",
       "    </tr>\n",
       "  </thead>\n",
       "  <tbody>\n",
       "    <tr>\n",
       "      <th>0</th>\n",
       "      <td>458752</td>\n",
       "      <td>458752000</td>\n",
       "      <td>What is this photo taken looking through?</td>\n",
       "      <td>net</td>\n",
       "    </tr>\n",
       "    <tr>\n",
       "      <th>1</th>\n",
       "      <td>458752</td>\n",
       "      <td>458752001</td>\n",
       "      <td>What position is this man playing?</td>\n",
       "      <td>pitcher</td>\n",
       "    </tr>\n",
       "    <tr>\n",
       "      <th>2</th>\n",
       "      <td>458752</td>\n",
       "      <td>458752002</td>\n",
       "      <td>What color is the players shirt?</td>\n",
       "      <td>orange</td>\n",
       "    </tr>\n",
       "    <tr>\n",
       "      <th>3</th>\n",
       "      <td>458752</td>\n",
       "      <td>458752003</td>\n",
       "      <td>Is this man a professional baseball player?</td>\n",
       "      <td>yes</td>\n",
       "    </tr>\n",
       "    <tr>\n",
       "      <th>4</th>\n",
       "      <td>262146</td>\n",
       "      <td>262146000</td>\n",
       "      <td>What color is the snow?</td>\n",
       "      <td>white</td>\n",
       "    </tr>\n",
       "  </tbody>\n",
       "</table>\n",
       "</div>"
      ],
      "text/plain": [
       "   image_id    ques_id                                     question   answer\n",
       "0    458752  458752000    What is this photo taken looking through?      net\n",
       "1    458752  458752001           What position is this man playing?  pitcher\n",
       "2    458752  458752002             What color is the players shirt?   orange\n",
       "3    458752  458752003  Is this man a professional baseball player?      yes\n",
       "4    262146  262146000                      What color is the snow?    white"
      ]
     },
     "execution_count": 13,
     "metadata": {},
     "output_type": "execute_result"
    }
   ],
   "source": [
    "df = pd.read_csv(\"../data/train_data_1000.csv\")\n",
    "df.head()"
   ]
  },
  {
   "cell_type": "code",
   "execution_count": 14,
   "metadata": {},
   "outputs": [
    {
     "name": "stderr",
     "output_type": "stream",
     "text": [
      "368900it [00:37, 9781.10it/s] \n"
     ]
    }
   ],
   "source": [
    "# Get these values for mapping\n",
    "\n",
    "answers = []\n",
    "img_id = []\n",
    "ques_id = []\n",
    "for _,row in tqdm(df.iterrows()):\n",
    "    answers.append(str(row.answer))\n",
    "    img_id.append(row.image_id)\n",
    "    ques_id.append(row.ques_id)"
   ]
  },
  {
   "cell_type": "code",
   "execution_count": 15,
   "metadata": {},
   "outputs": [],
   "source": [
    "orig_img_id = sorted(np.unique(img_id))"
   ]
  },
  {
   "cell_type": "markdown",
   "metadata": {},
   "source": [
    "## Write a custom generator to fetch image and text features"
   ]
  },
  {
   "cell_type": "code",
   "execution_count": 16,
   "metadata": {},
   "outputs": [],
   "source": [
    "batch = np.random.choice(a = ques_id, \n",
    "                                     size = 64)"
   ]
  },
  {
   "cell_type": "code",
   "execution_count": 17,
   "metadata": {},
   "outputs": [
    {
     "data": {
      "text/plain": [
       "array([332459000, 130741010,  45885005, 191098001, 313721000, 198557000,\n",
       "       127994000, 223836002, 319031000,  37955013, 374725002, 256040000,\n",
       "        96845019,  42804001, 390159002, 249663000, 156700003, 376241052,\n",
       "       433285000, 554360001, 156284003, 336426002, 312334002,  32339002,\n",
       "       175341000, 478967001, 129722001, 342325001, 340653001, 259398000,\n",
       "        32804007, 358411000, 371814000, 540457000, 237186002, 168873005,\n",
       "        55536009, 132699000, 451420001,  33094003, 568461005,  46230010,\n",
       "       311377002, 213135009, 448352001, 289852004,  50648002, 499061000,\n",
       "       440520002,  73721001,  61842042, 228155002, 329640027, 397212008,\n",
       "       194294000, 139309001, 551867002, 579539011, 122352010,  20279002,\n",
       "       486227000, 179037006, 258337001,  27675001])"
      ]
     },
     "execution_count": 17,
     "metadata": {},
     "output_type": "execute_result"
    }
   ],
   "source": [
    "batch"
   ]
  },
  {
   "cell_type": "code",
   "execution_count": null,
   "metadata": {},
   "outputs": [],
   "source": []
  },
  {
   "cell_type": "code",
   "execution_count": 163,
   "metadata": {
    "scrolled": true
   },
   "outputs": [
    {
     "name": "stderr",
     "output_type": "stream",
     "text": [
      "\n",
      "  0%|          | 0/100 [00:00<?, ?it/s]\u001b[A\n",
      " 12%|█▏        | 12/100 [00:00<00:00, 117.23it/s]\u001b[A\n",
      " 23%|██▎       | 23/100 [00:00<00:00, 114.96it/s]\u001b[A\n",
      " 37%|███▋      | 37/100 [00:00<00:00, 120.65it/s]\u001b[A\n",
      " 46%|████▌     | 46/100 [00:00<00:00, 109.30it/s]\u001b[A\n",
      " 61%|██████    | 61/100 [00:00<00:00, 117.22it/s]\u001b[A\n",
      " 72%|███████▏  | 72/100 [00:00<00:00, 114.16it/s]\u001b[A\n",
      " 88%|████████▊ | 88/100 [00:00<00:00, 122.41it/s]\u001b[A\n",
      "100%|██████████| 100/100 [00:00<00:00, 113.98it/s]\u001b[A"
     ]
    }
   ],
   "source": [
    "X_train =[]\n",
    "y_train = [] \n",
    "for c,val in enumerate(tqdm(ques_id[:100])):\n",
    "\n",
    "    get_text_index = ques_id.index(val)\n",
    "    get_text_index = ques_id.index(val)\n",
    "    get_img_index = orig_img_id.index(img_id[get_text_index])\n",
    "    txt_features = text_features[get_text_index]\n",
    "    txt_features = txt_features.reshape(768)\n",
    "    image_features = img_features[get_img_index]\n",
    "    image_features = image_features.reshape(7*7*1024)\n",
    "#     print(txt_features.shape,image_features.shape)\n",
    "    input = np.concatenate((image_features,txt_features))\n",
    "    input=input.reshape(1,50944)\n",
    "#     input = np.array(input).flatten()\n",
    "#             input = np.concatenate(txt_features.ravel(), image_features.ravel())\n",
    "    output = answers[get_text_index]\n",
    "    if c==0:\n",
    "        X_train = input\n",
    "    else:\n",
    "        X_train = np.vstack((X_train,input))\n",
    "    y_train += [ output ]"
   ]
  },
  {
   "cell_type": "code",
   "execution_count": 149,
   "metadata": {},
   "outputs": [
    {
     "data": {
      "text/plain": [
       "(100, 50944)"
      ]
     },
     "execution_count": 149,
     "metadata": {},
     "output_type": "execute_result"
    }
   ],
   "source": [
    "X_train.shape"
   ]
  },
  {
   "cell_type": "code",
   "execution_count": null,
   "metadata": {},
   "outputs": [],
   "source": []
  },
  {
   "cell_type": "code",
   "execution_count": 245,
   "metadata": {},
   "outputs": [
    {
     "name": "stderr",
     "output_type": "stream",
     "text": [
      "/opt/anaconda3/envs/keras/lib/python3.7/site-packages/ipykernel_launcher.py:3: FutureWarning: Method .as_matrix will be removed in a future version. Use .values instead.\n",
      "  This is separate from the ipykernel package so we can avoid doing imports until\n"
     ]
    }
   ],
   "source": [
    "onehot = pd.get_dummies(answers)\n",
    "target_labels = onehot.columns\n",
    "target = onehot.as_matrix()"
   ]
  },
  {
   "cell_type": "code",
   "execution_count": 247,
   "metadata": {},
   "outputs": [
    {
     "data": {
      "text/plain": [
       "999"
      ]
     },
     "execution_count": 247,
     "metadata": {},
     "output_type": "execute_result"
    }
   ],
   "source": [
    "target_labels = list(target_labels)\n",
    "len(target_labels)"
   ]
  },
  {
   "cell_type": "code",
   "execution_count": 248,
   "metadata": {},
   "outputs": [],
   "source": [
    "assert target_labels.index(y_train[10]) == np.argmax(target[10]), \"Error in mapping\""
   ]
  },
  {
   "cell_type": "code",
   "execution_count": null,
   "metadata": {},
   "outputs": [],
   "source": []
  },
  {
   "cell_type": "code",
   "execution_count": 356,
   "metadata": {},
   "outputs": [],
   "source": [
    "def custom_generator(ques_id,answers=answers, batch_size = 1):\n",
    "    \n",
    "    while True:\n",
    "    \n",
    "          # For one-hot labeling\n",
    "        onehot = pd.get_dummies(answers)\n",
    "        target_labels = onehot.columns\n",
    "        target = onehot.as_matrix()\n",
    "\n",
    "        # Select files (paths/indices) for the batch\n",
    "        batch = np.random.choice(a = ques_id, \n",
    "                                     size = batch_size)\n",
    "        batch_x = np.array([])\n",
    "        batch_y = np.array([])\n",
    "#         print(batch)\n",
    "        # Read in each input, perform preprocessing and get labels\n",
    "        for c,val in enumerate(batch):\n",
    "            \n",
    "            get_text_index = ques_id.index(val)\n",
    "            get_text_index = ques_id.index(val)\n",
    "            get_img_index = orig_img_id.index(img_id[get_text_index])\n",
    "            txt_features = text_features[get_text_index]\n",
    "            txt_features = txt_features.reshape(768)\n",
    "            image_features = img_features[get_img_index]\n",
    "            image_features = image_features.reshape(7*7*1024)\n",
    "            input = np.concatenate((image_features,txt_features))\n",
    "            input=input.reshape(1,50944)\n",
    "            output = target[get_text_index]\n",
    "            \n",
    "            if c==0:\n",
    "                batch_x = input\n",
    "                batch_y = output\n",
    "            else:\n",
    "#                 print(batch_x.shape)\n",
    "                batch_x = np.vstack((batch_x,input))\n",
    "                batch_y = np.vstack((batch_y,output))\n",
    "            \n",
    "#         print(batch_x.shape)\n",
    "#         print(len(batch_y))\n",
    "        yield (batch_x, batch_y)\n",
    "        \n"
   ]
  },
  {
   "cell_type": "code",
   "execution_count": null,
   "metadata": {},
   "outputs": [],
   "source": []
  },
  {
   "cell_type": "markdown",
   "metadata": {},
   "source": [
    "## Get train and val generator"
   ]
  },
  {
   "cell_type": "code",
   "execution_count": 405,
   "metadata": {},
   "outputs": [],
   "source": [
    "# Train-test split\n",
    "train_ques_id, val_ques_id, train_answers, val_answers = train_test_split(ques_id, answers, test_size=0.15)"
   ]
  },
  {
   "cell_type": "code",
   "execution_count": null,
   "metadata": {},
   "outputs": [],
   "source": []
  },
  {
   "cell_type": "code",
   "execution_count": 422,
   "metadata": {},
   "outputs": [],
   "source": [
    "train_gen=custom_generator(train_ques_id,batch_size=100)\n",
    "val_gen=custom_generator(val_ques_id,batch_size=100)"
   ]
  },
  {
   "cell_type": "code",
   "execution_count": 413,
   "metadata": {},
   "outputs": [
    {
     "name": "stderr",
     "output_type": "stream",
     "text": [
      "/opt/anaconda3/envs/keras/lib/python3.7/site-packages/ipykernel_launcher.py:8: FutureWarning: Method .as_matrix will be removed in a future version. Use .values instead.\n",
      "  \n"
     ]
    },
    {
     "ename": "KeyboardInterrupt",
     "evalue": "",
     "output_type": "error",
     "traceback": [
      "\u001b[0;31m---------------------------------------------------------------------------\u001b[0m",
      "\u001b[0;31mKeyboardInterrupt\u001b[0m                         Traceback (most recent call last)",
      "\u001b[0;32m<ipython-input-413-d7fba01ca318>\u001b[0m in \u001b[0;36m<module>\u001b[0;34m\u001b[0m\n\u001b[0;32m----> 1\u001b[0;31m \u001b[0mx\u001b[0m\u001b[0;34m,\u001b[0m\u001b[0my\u001b[0m\u001b[0;34m=\u001b[0m\u001b[0mnext\u001b[0m\u001b[0;34m(\u001b[0m\u001b[0mval_gen\u001b[0m\u001b[0;34m)\u001b[0m\u001b[0;34m\u001b[0m\u001b[0;34m\u001b[0m\u001b[0m\n\u001b[0m",
      "\u001b[0;32m<ipython-input-356-ddcc4c564c84>\u001b[0m in \u001b[0;36mcustom_generator\u001b[0;34m(ques_id, answers, batch_size)\u001b[0m\n\u001b[1;32m     33\u001b[0m             \u001b[0;32melse\u001b[0m\u001b[0;34m:\u001b[0m\u001b[0;34m\u001b[0m\u001b[0;34m\u001b[0m\u001b[0m\n\u001b[1;32m     34\u001b[0m \u001b[0;31m#                 print(batch_x.shape)\u001b[0m\u001b[0;34m\u001b[0m\u001b[0;34m\u001b[0m\u001b[0;34m\u001b[0m\u001b[0m\n\u001b[0;32m---> 35\u001b[0;31m                 \u001b[0mbatch_x\u001b[0m \u001b[0;34m=\u001b[0m \u001b[0mnp\u001b[0m\u001b[0;34m.\u001b[0m\u001b[0mvstack\u001b[0m\u001b[0;34m(\u001b[0m\u001b[0;34m(\u001b[0m\u001b[0mbatch_x\u001b[0m\u001b[0;34m,\u001b[0m\u001b[0minput\u001b[0m\u001b[0;34m)\u001b[0m\u001b[0;34m)\u001b[0m\u001b[0;34m\u001b[0m\u001b[0;34m\u001b[0m\u001b[0m\n\u001b[0m\u001b[1;32m     36\u001b[0m                 \u001b[0mbatch_y\u001b[0m \u001b[0;34m=\u001b[0m \u001b[0mnp\u001b[0m\u001b[0;34m.\u001b[0m\u001b[0mvstack\u001b[0m\u001b[0;34m(\u001b[0m\u001b[0;34m(\u001b[0m\u001b[0mbatch_y\u001b[0m\u001b[0;34m,\u001b[0m\u001b[0moutput\u001b[0m\u001b[0;34m)\u001b[0m\u001b[0;34m)\u001b[0m\u001b[0;34m\u001b[0m\u001b[0;34m\u001b[0m\u001b[0m\n\u001b[1;32m     37\u001b[0m \u001b[0;34m\u001b[0m\u001b[0m\n",
      "\u001b[0;32m/opt/anaconda3/envs/keras/lib/python3.7/site-packages/numpy/core/shape_base.py\u001b[0m in \u001b[0;36mvstack\u001b[0;34m(tup)\u001b[0m\n\u001b[1;32m    281\u001b[0m     \"\"\"\n\u001b[1;32m    282\u001b[0m     \u001b[0m_warn_for_nonsequence\u001b[0m\u001b[0;34m(\u001b[0m\u001b[0mtup\u001b[0m\u001b[0;34m)\u001b[0m\u001b[0;34m\u001b[0m\u001b[0;34m\u001b[0m\u001b[0m\n\u001b[0;32m--> 283\u001b[0;31m     \u001b[0;32mreturn\u001b[0m \u001b[0m_nx\u001b[0m\u001b[0;34m.\u001b[0m\u001b[0mconcatenate\u001b[0m\u001b[0;34m(\u001b[0m\u001b[0;34m[\u001b[0m\u001b[0matleast_2d\u001b[0m\u001b[0;34m(\u001b[0m\u001b[0m_m\u001b[0m\u001b[0;34m)\u001b[0m \u001b[0;32mfor\u001b[0m \u001b[0m_m\u001b[0m \u001b[0;32min\u001b[0m \u001b[0mtup\u001b[0m\u001b[0;34m]\u001b[0m\u001b[0;34m,\u001b[0m \u001b[0;36m0\u001b[0m\u001b[0;34m)\u001b[0m\u001b[0;34m\u001b[0m\u001b[0;34m\u001b[0m\u001b[0m\n\u001b[0m\u001b[1;32m    284\u001b[0m \u001b[0;34m\u001b[0m\u001b[0m\n\u001b[1;32m    285\u001b[0m \u001b[0;34m\u001b[0m\u001b[0m\n",
      "\u001b[0;31mKeyboardInterrupt\u001b[0m: "
     ]
    }
   ],
   "source": [
    "x,y=next(val_gen)"
   ]
  },
  {
   "cell_type": "code",
   "execution_count": null,
   "metadata": {},
   "outputs": [],
   "source": [
    "print(x.shape,y.shape)"
   ]
  },
  {
   "cell_type": "code",
   "execution_count": null,
   "metadata": {},
   "outputs": [],
   "source": []
  },
  {
   "cell_type": "code",
   "execution_count": null,
   "metadata": {},
   "outputs": [],
   "source": []
  },
  {
   "cell_type": "markdown",
   "metadata": {},
   "source": [
    "## Define model"
   ]
  },
  {
   "cell_type": "code",
   "execution_count": 423,
   "metadata": {},
   "outputs": [],
   "source": [
    "from keras.models import Sequential\n",
    "from keras.layers.core import Reshape, Activation, Dropout\n",
    "from keras.layers import LSTM, Concatenate, Dense,InputLayer, Flatten"
   ]
  },
  {
   "cell_type": "code",
   "execution_count": 424,
   "metadata": {},
   "outputs": [
    {
     "name": "stdout",
     "output_type": "stream",
     "text": [
      "_________________________________________________________________\n",
      "Layer (type)                 Output Shape              Param #   \n",
      "=================================================================\n",
      "dense_46 (Dense)             (None, 128)               6520960   \n",
      "_________________________________________________________________\n",
      "dropout_15 (Dropout)         (None, 128)               0         \n",
      "_________________________________________________________________\n",
      "dense_47 (Dense)             (None, 512)               66048     \n",
      "_________________________________________________________________\n",
      "dropout_16 (Dropout)         (None, 512)               0         \n",
      "_________________________________________________________________\n",
      "dense_48 (Dense)             (None, 999)               512487    \n",
      "=================================================================\n",
      "Total params: 7,099,495\n",
      "Trainable params: 7,099,495\n",
      "Non-trainable params: 0\n",
      "_________________________________________________________________\n"
     ]
    }
   ],
   "source": [
    "# create model\n",
    "del model\n",
    "model = Sequential()\n",
    "model.add(InputLayer(input_shape=(50944,)))\n",
    "model.add(Dense(128, activation='relu'))\n",
    "model.add(Dropout(0.5))\n",
    "model.add(Dense(512, activation='relu'))\n",
    "model.add(Dropout(0.5))\n",
    "model.add(Dense(999, activation='softmax'))\n",
    "model.summary()"
   ]
  },
  {
   "cell_type": "code",
   "execution_count": 425,
   "metadata": {},
   "outputs": [],
   "source": [
    "# Compile model\n",
    "model.compile(loss='categorical_crossentropy', optimizer='adam', metrics=['accuracy'])"
   ]
  },
  {
   "cell_type": "code",
   "execution_count": null,
   "metadata": {
    "scrolled": true
   },
   "outputs": [
    {
     "name": "stdout",
     "output_type": "stream",
     "text": [
      "Epoch 1/100\n"
     ]
    },
    {
     "name": "stderr",
     "output_type": "stream",
     "text": [
      "/opt/anaconda3/envs/keras/lib/python3.7/site-packages/ipykernel_launcher.py:8: FutureWarning: Method .as_matrix will be removed in a future version. Use .values instead.\n",
      "  \n",
      "/opt/anaconda3/envs/keras/lib/python3.7/site-packages/ipykernel_launcher.py:8: FutureWarning: Method .as_matrix will be removed in a future version. Use .values instead.\n",
      "  \n",
      "/opt/anaconda3/envs/keras/lib/python3.7/site-packages/ipykernel_launcher.py:8: FutureWarning: Method .as_matrix will be removed in a future version. Use .values instead.\n",
      "  \n",
      "/opt/anaconda3/envs/keras/lib/python3.7/site-packages/ipykernel_launcher.py:8: FutureWarning: Method .as_matrix will be removed in a future version. Use .values instead.\n",
      "  \n",
      "/opt/anaconda3/envs/keras/lib/python3.7/site-packages/ipykernel_launcher.py:8: FutureWarning: Method .as_matrix will be removed in a future version. Use .values instead.\n",
      "  \n",
      "/opt/anaconda3/envs/keras/lib/python3.7/site-packages/ipykernel_launcher.py:8: FutureWarning: Method .as_matrix will be removed in a future version. Use .values instead.\n",
      "  \n",
      "/opt/anaconda3/envs/keras/lib/python3.7/site-packages/ipykernel_launcher.py:8: FutureWarning: Method .as_matrix will be removed in a future version. Use .values instead.\n",
      "  \n",
      "/opt/anaconda3/envs/keras/lib/python3.7/site-packages/ipykernel_launcher.py:8: FutureWarning: Method .as_matrix will be removed in a future version. Use .values instead.\n",
      "  \n",
      "/opt/anaconda3/envs/keras/lib/python3.7/site-packages/ipykernel_launcher.py:8: FutureWarning: Method .as_matrix will be removed in a future version. Use .values instead.\n",
      "  \n",
      "/opt/anaconda3/envs/keras/lib/python3.7/site-packages/ipykernel_launcher.py:8: FutureWarning: Method .as_matrix will be removed in a future version. Use .values instead.\n",
      "  \n",
      "/opt/anaconda3/envs/keras/lib/python3.7/site-packages/ipykernel_launcher.py:8: FutureWarning: Method .as_matrix will be removed in a future version. Use .values instead.\n",
      "  \n",
      "/opt/anaconda3/envs/keras/lib/python3.7/site-packages/ipykernel_launcher.py:8: FutureWarning: Method .as_matrix will be removed in a future version. Use .values instead.\n",
      "  \n"
     ]
    },
    {
     "name": "stdout",
     "output_type": "stream",
     "text": [
      "31/31 [==============================] - 73s 2s/step - loss: 4.8978 - acc: 0.2068 - val_loss: 4.4069 - val_acc: 0.2500\n",
      "Epoch 2/100\n",
      "31/31 [==============================] - 61s 2s/step - loss: 4.3374 - acc: 0.2219 - val_loss: 4.0441 - val_acc: 0.2160\n",
      "Epoch 3/100\n",
      "31/31 [==============================] - 63s 2s/step - loss: 4.0601 - acc: 0.2400 - val_loss: 3.7013 - val_acc: 0.2540\n",
      "Epoch 4/100\n",
      "31/31 [==============================] - 63s 2s/step - loss: 4.0210 - acc: 0.2187 - val_loss: 3.5284 - val_acc: 0.2220\n",
      "Epoch 5/100\n",
      "31/31 [==============================] - 62s 2s/step - loss: 3.8183 - acc: 0.2342 - val_loss: 3.7528 - val_acc: 0.2180\n",
      "Epoch 6/100\n",
      "31/31 [==============================] - 63s 2s/step - loss: 3.8970 - acc: 0.2300 - val_loss: 4.0308 - val_acc: 0.2020\n",
      "Epoch 7/100\n",
      "31/31 [==============================] - 65s 2s/step - loss: 3.9322 - acc: 0.2187 - val_loss: 4.0480 - val_acc: 0.1860\n",
      "Epoch 8/100\n",
      "31/31 [==============================] - 61s 2s/step - loss: 3.9568 - acc: 0.2216 - val_loss: 3.8269 - val_acc: 0.1960\n",
      "Epoch 9/100\n",
      "31/31 [==============================] - 60s 2s/step - loss: 3.8565 - acc: 0.2245 - val_loss: 3.7697 - val_acc: 0.1840\n",
      "Epoch 10/100\n",
      "31/31 [==============================] - 67s 2s/step - loss: 3.6829 - acc: 0.2326 - val_loss: 3.5841 - val_acc: 0.2540\n",
      "Epoch 11/100\n",
      "31/31 [==============================] - 58s 2s/step - loss: 3.7099 - acc: 0.2165 - val_loss: 3.7342 - val_acc: 0.2380\n",
      "Epoch 12/100\n",
      "31/31 [==============================] - 63s 2s/step - loss: 3.5461 - acc: 0.2465 - val_loss: 3.7846 - val_acc: 0.2260\n",
      "Epoch 13/100\n",
      " 4/31 [==>...........................] - ETA: 59s - loss: 3.2669 - acc: 0.2425 "
     ]
    }
   ],
   "source": [
    "model.fit_generator(generator=train_gen, steps_per_epoch= len(train_answers)//10000,epochs=100,\n",
    "                    validation_data=val_gen, validation_steps=len(val_answers)//10000,\n",
    "                    use_multiprocessing=True,\n",
    "                    workers=6)"
   ]
  },
  {
   "cell_type": "code",
   "execution_count": 366,
   "metadata": {},
   "outputs": [],
   "source": [
    "model.save(\"stage1.h5\")"
   ]
  },
  {
   "cell_type": "code",
   "execution_count": null,
   "metadata": {},
   "outputs": [],
   "source": [
    "!ls -h"
   ]
  },
  {
   "cell_type": "code",
   "execution_count": null,
   "metadata": {},
   "outputs": [],
   "source": []
  },
  {
   "cell_type": "code",
   "execution_count": 382,
   "metadata": {},
   "outputs": [
    {
     "data": {
      "text/plain": [
       "363"
      ]
     },
     "execution_count": 382,
     "metadata": {},
     "output_type": "execute_result"
    }
   ],
   "source": [
    "np.argmax(model.predict(X_train[14:15]))"
   ]
  },
  {
   "cell_type": "code",
   "execution_count": 378,
   "metadata": {},
   "outputs": [
    {
     "data": {
      "text/plain": [
       "994"
      ]
     },
     "execution_count": 378,
     "metadata": {},
     "output_type": "execute_result"
    }
   ],
   "source": [
    "np.argmax(target[11])"
   ]
  },
  {
   "cell_type": "code",
   "execution_count": 383,
   "metadata": {},
   "outputs": [
    {
     "data": {
      "text/plain": [
       "'frisbee'"
      ]
     },
     "execution_count": 383,
     "metadata": {},
     "output_type": "execute_result"
    }
   ],
   "source": [
    "target_labels[363]"
   ]
  },
  {
   "cell_type": "code",
   "execution_count": null,
   "metadata": {},
   "outputs": [],
   "source": []
  },
  {
   "cell_type": "code",
   "execution_count": null,
   "metadata": {},
   "outputs": [],
   "source": [
    "from keras.preprocessing import image\n",
    "from keras.applications.densenet import DenseNet121\n",
    "from keras.applications.densenet import preprocess_input\n",
    "\n",
    "def get img_feat:\n",
    "    "
   ]
  },
  {
   "cell_type": "code",
   "execution_count": null,
   "metadata": {},
   "outputs": [],
   "source": []
  },
  {
   "cell_type": "code",
   "execution_count": null,
   "metadata": {},
   "outputs": [],
   "source": []
  }
 ],
 "metadata": {
  "kernelspec": {
   "display_name": "Python3 (keras)",
   "language": "python",
   "name": "keras"
  },
  "language_info": {
   "codemirror_mode": {
    "name": "ipython",
    "version": 3
   },
   "file_extension": ".py",
   "mimetype": "text/x-python",
   "name": "python",
   "nbconvert_exporter": "python",
   "pygments_lexer": "ipython3",
   "version": "3.7.3"
  }
 },
 "nbformat": 4,
 "nbformat_minor": 2
}
